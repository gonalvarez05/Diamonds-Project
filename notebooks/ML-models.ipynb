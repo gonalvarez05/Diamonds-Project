{
 "cells": [
  {
   "cell_type": "markdown",
   "metadata": {},
   "source": [
    "# DIAMONDS PROJECT"
   ]
  },
  {
   "cell_type": "code",
   "execution_count": 1,
   "metadata": {},
   "outputs": [],
   "source": [
    "import pandas as pd\n",
    "import math\n",
    "import matplotlib.pyplot as pls \n",
    "import seaborn as sns\n",
    "from sklearn.model_selection import train_test_split\n",
    "from sklearn.model_selection import RepeatedKFold\n",
    "from lightgbm import LGBMRegressor\n",
    "from sklearn.model_selection import cross_val_score\n",
    "from sklearn.preprocessing import StandardScaler\n",
    "from sklearn.compose import ColumnTransformer\n",
    "from sklearn.pipeline import Pipeline\n",
    "from sklearn.model_selection import RandomizedSearchCV\n",
    "from sklearn.impute import SimpleImputer"
   ]
  },
  {
   "cell_type": "code",
   "execution_count": 2,
   "metadata": {},
   "outputs": [],
   "source": [
    "train= pd.read_csv('./diamonds_train.csv')\n",
    "test= pd.read_csv('./diamonds_test.csv')\n",
    "sample= pd.read_csv('./sample_submission.csv')"
   ]
  },
  {
   "cell_type": "markdown",
   "metadata": {},
   "source": [
    "## 1. Delete Train Zeros"
   ]
  },
  {
   "cell_type": "markdown",
   "metadata": {},
   "source": [
    "##### There are several columns (x,y,z) with 0's and I have to replace them. The first step it's to replace the ones where only the 'z' misses. For that I have applied a formula to get the z."
   ]
  },
  {
   "cell_type": "code",
   "execution_count": 3,
   "metadata": {},
   "outputs": [],
   "source": [
    "def change_z(df):\n",
    "    \n",
    "    x=df[0]\n",
    "    y=df[1]\n",
    "    z=df[2]\n",
    "    depth= df[3]\n",
    "    \n",
    "    if z== 0.0 and x!=0 and y!=0:\n",
    "        \n",
    "        z=((depth/100)*(x+y))/2\n",
    "        \n",
    "        return z\n",
    "    else:\n",
    "        return df[2]"
   ]
  },
  {
   "cell_type": "code",
   "execution_count": 4,
   "metadata": {},
   "outputs": [],
   "source": [
    "train['z']= train[['x','y', 'z', 'depth']].apply(change_z, axis=1)\n",
    "test['z']= test[['x','y', 'z', 'depth']].apply(change_z, axis=1)\n"
   ]
  },
  {
   "cell_type": "markdown",
   "metadata": {},
   "source": [
    "##### To replace the other zeros, as I realize there where not many, I used a tecnique which it´s not the most pythonic..."
   ]
  },
  {
   "cell_type": "code",
   "execution_count": 5,
   "metadata": {},
   "outputs": [
    {
     "name": "stderr",
     "output_type": "stream",
     "text": [
      "/Users/gonzaloalvarez/miniconda3/envs/ironhack_env/lib/python3.8/site-packages/pandas/core/frame.py:4163: SettingWithCopyWarning: \n",
      "A value is trying to be set on a copy of a slice from a DataFrame\n",
      "\n",
      "See the caveats in the documentation: https://pandas.pydata.org/pandas-docs/stable/user_guide/indexing.html#returning-a-view-versus-a-copy\n",
      "  return super().drop(\n"
     ]
    }
   ],
   "source": [
    "change_3zeros= train.loc[(train.carat.between(0.68,0.73)) & (train.depth.between(63,65))& (train.price.between(2080,2180)) & (train.table.between(59,61))]\n",
    "change_3zeros.reset_index(drop=True, inplace=True)\n",
    "to_del=[2,10]\n",
    "change_3zeros.drop(change_3zeros.index[to_del], inplace=True)\n",
    "change_3zeros.reset_index(drop=True, inplace=True)\n",
    "\n",
    "train.at[6465,'x']= 5.61\n",
    "train.at[6465,'y']= 5.58\n",
    "train.at[6465,'z']= 3.56\n",
    "train.at[28029,'x']= 5.61\n",
    "train.at[28029,'y']= 5.58\n",
    "train.at[28029,'z']= 3.56\n",
    "train.at[26192,'x']=8.45\n",
    "train.at[26192,'y']=8.39\n",
    "train.at[26192,'z']=5.17\n",
    "\n",
    "\n",
    "#train.loc[(train.x==0)|(train.y==0)|(train.z==0)]\n",
    "#zero_x=train.loc[(train.carat.between(1.05,1.10))&(train.depth.between(61,62))& (train.price.between(4900,5000)) & (train.table.between(54,58))&(train.x!=0)]\n",
    "#z=((61.6/100)*(6.60+4.07))/2\n",
    "train.at[14815,'z']=3.29\n",
    "train.at[14815,'x']=6.60\n",
    "\n",
    "last_df=train.loc[(train.carat.between(1.10,1.16)&(train.depth.between(53,59))& (train.price.between(5300,7300)) & (train.table.between(60,72))&(train.x!=0))]\n",
    "\n",
    "train.at[34423,'x']=6.79\n",
    "train.at[34423,'y']=6.79\n",
    "train.at[34423,'z']=3.97\n"
   ]
  },
  {
   "cell_type": "markdown",
   "metadata": {},
   "source": [
    "## 2. Delete test zeros"
   ]
  },
  {
   "cell_type": "code",
   "execution_count": 6,
   "metadata": {},
   "outputs": [],
   "source": [
    "test_1df=test.loc[(test.carat.between(1.15,1.25)&(test.depth.between(61,63)) & (test.table.between(58,60))&(test.x!=0))]\n",
    "\n",
    "test.at[2901,'x']=6.81\n",
    "test.at[2901,'y']=6.79\n",
    "test.at[2901,'z']=4.21\n",
    "\n",
    "test_2df=test.loc[(test.carat.between(0.98,1.02)&(test.depth.between(62.3,64.3)) & (test.table.between(51,55))&(test.x!=0))]\n",
    "\n",
    "test.at[6685,'x']=6.38\n",
    "test.at[6685,'y']=6.37\n",
    "test.at[6685,'z']=4.02\n",
    "\n",
    "test_3df= test.loc[(test.carat.between(1.54,1.58)&(test.depth.between(62,62.5)) & (test.table.between(52,56))&(test.x!=0))]\n",
    "\n",
    "test.at[7488,'x']=7.41\n",
    "test.at[7488,'y']=7.44\n",
    "test.at[7488,'z']=4.62\n"
   ]
  },
  {
   "cell_type": "markdown",
   "metadata": {},
   "source": [
    "## 3. New Column -> Shape"
   ]
  },
  {
   "cell_type": "markdown",
   "metadata": {},
   "source": [
    "##### Each diamond has a shape according to it´s cut, depth, table and the length-width ratio. I got from lumeradiamonds.com the shapes of the diamonds. \n"
   ]
  },
  {
   "cell_type": "code",
   "execution_count": 7,
   "metadata": {},
   "outputs": [],
   "source": [
    "def shapes(df):\n",
    "    \n",
    "    cut= df[0]\n",
    "    depth= df[1]\n",
    "    table= df[2]\n",
    "    ratio= df[3]/df[4]\n",
    "    \n",
    "    \n",
    "    ##IDEAL & PREMIUM\n",
    "    \n",
    "    if cut == 'Ideal' or cut == 'Premium':\n",
    "        \n",
    "        if (53 <=table <= 58) and (59 <=depth<= 62.3) and (1<=ratio<= 1.01):\n",
    "            return 'Round'\n",
    "        \n",
    "        \n",
    "        elif (61 <=table <= 67) and (61 <=depth<= 67) and (1.00<=ratio<= 1.03 or 1.15<=ratio<=1.20):\n",
    "            return 'Cushion'\n",
    "        \n",
    "        elif (61 <=table <= 69) and (61 <=depth<= 67) and (1.00<=ratio<= 1.03 or 1.4<=ratio<=1.50):\n",
    "            return 'Emerald'\n",
    "        \n",
    "        elif (53<=table <= 63) and (58 <=depth<= 62) and (0.95<=ratio<= 1.02):\n",
    "            return 'Heart'\n",
    "        \n",
    "        elif (0.95<=ratio<= 1.05):\n",
    "            return 'Round'\n",
    "        \n",
    "        else:\n",
    "            return 'Unknown'\n",
    "        \n",
    "        ## VERY GOOD\n",
    "    \n",
    "    elif cut == 'Very Good':\n",
    "        \n",
    "        if (52 <=table <= 53 or 58 <=table <= 60) and (58 <=depth<= 58.9 or 62.4 <=depth <= 63.5) and (1<=ratio<= 1.01):\n",
    "            return 'Round'\n",
    "        \n",
    "        elif (58<=table<=60 or 68 <=table <= 70) and (58 <=depth<= 60.9 or  67.1<=depth<= 70) and (1.00<=ratio<= 1.03 or 1.10<=ratio<= 1.14 or 1.21<=ratio<= 1.30):\n",
    "            return 'Cushion'\n",
    "        \n",
    "        elif (57<=table<=60 or 70 <=table <= 72) and (59 <=depth<= 60.9 or  67.1<=depth<= 70) and (1.00<=ratio<= 1.03 or 1.30<=ratio<= 1.39 or 1.51<=ratio<= 1.60):\n",
    "            return 'Emerald'\n",
    "        \n",
    "        elif (table== 52 or 64 <=table <= 65) and (56<=depth<=57.9 or 62.1 <=depth <= 66) and (0.89<=ratio<= 0.94 or 1.03<=ratio<= 1.05):\n",
    "            return 'Heart' \n",
    "        \n",
    "        elif (0.90<=ratio<= 1.05):\n",
    "            return 'Round'\n",
    "              \n",
    "        else:\n",
    "            return 'Unknown'\n",
    "              \n",
    "              ##GOOD \n",
    "                \n",
    "    elif cut == 'Good':\n",
    "        \n",
    "        if (table == 51 or 61 <=table <= 64) and (57.5 <=depth<= 57.9 or 63.6 <=depth <= 64.1) and (1<=ratio<= 1.01):\n",
    "            return 'Round'\n",
    "        \n",
    "        elif (table == 71 or 56<=table<=57) and (56 <=depth<= 57.9 or 70.1<=depth<= 71) and (1.04<=ratio<= 1.05 or 1.10<=ratio<= 1.14 or 1.21<=ratio<= 1.30):\n",
    "            return 'Cushion'\n",
    "        \n",
    "        elif (54<=table<=56 or 73 <=table <= 74) and (57 <=depth<= 58.9 or  70.1<=depth<= 74) and (1.04<=ratio<= 1.05 or 1.20<=ratio<= 1.29 or 1.61<=ratio<= 1.80):\n",
    "            return 'Emerald'\n",
    "        \n",
    "        elif (table== 51 or 66 <=table <= 68) and (53<=depth<=55.9 or 66.1 <=depth <= 71) and (0.83<=ratio<= 0.87 or 1.06<=ratio<= 1.10):\n",
    "            return 'Heart' \n",
    "        \n",
    "        elif (0.90<=ratio<= 1.05):\n",
    "            return 'Round'\n",
    "        \n",
    "              \n",
    "        else:\n",
    "            return 'Unknown'\n",
    "        \n",
    "        ##FAIR\n",
    "        \n",
    "    elif cut == 'Fair':\n",
    "        \n",
    "        if (table == 50 or 65 <=table <= 69) and (56.5 <=depth<= 57.4 or 64.2 <=depth <= 65) and ratio==1.02:\n",
    "            return 'Round'\n",
    "        \n",
    "        \n",
    "        elif (54<=table<=57 or  72<=table<= 73) and (54 <=depth<= 55.9 or  71.1<=depth<= 73) and (1.06<=ratio<= 1.09 or 1.31<=ratio<= 1.50):\n",
    "            return 'Cushion'\n",
    "        \n",
    "        elif (51<=table<=53 or 75 <=table <= 79) and (54 <=depth<= 56.9 or  74.1<=depth<= 79) and (1.06<=ratio<= 1.08 or 1.15<=ratio<= 1.19 or 1.81<=ratio<= 1.90):\n",
    "            return 'Emerald'\n",
    "        \n",
    "        \n",
    "        elif (table== 50 or 69 <=table <= 70) and (50<=depth<=52.9 or 71.1 <=depth <= 74) and (0.80<=ratio<= 0.83 or 1.11<=ratio<= 1.15):\n",
    "            return 'Heart'  \n",
    "        \n",
    "        elif (0.90<=ratio<= 1.05):\n",
    "            return 'Round'\n",
    "              \n",
    "        else:\n",
    "            return 'Unknown'"
   ]
  },
  {
   "cell_type": "code",
   "execution_count": 8,
   "metadata": {},
   "outputs": [],
   "source": [
    "train['shape']= train[['cut','depth', 'table','x', 'y']].apply(shapes, axis=1)"
   ]
  },
  {
   "cell_type": "code",
   "execution_count": 9,
   "metadata": {},
   "outputs": [],
   "source": [
    "test['shape']= test[['cut','depth', 'table','x', 'y']].apply(shapes, axis=1)\n"
   ]
  },
  {
   "cell_type": "code",
   "execution_count": 10,
   "metadata": {},
   "outputs": [
    {
     "data": {
      "text/html": [
       "<div>\n",
       "<style scoped>\n",
       "    .dataframe tbody tr th:only-of-type {\n",
       "        vertical-align: middle;\n",
       "    }\n",
       "\n",
       "    .dataframe tbody tr th {\n",
       "        vertical-align: top;\n",
       "    }\n",
       "\n",
       "    .dataframe thead th {\n",
       "        text-align: right;\n",
       "    }\n",
       "</style>\n",
       "<table border=\"1\" class=\"dataframe\">\n",
       "  <thead>\n",
       "    <tr style=\"text-align: right;\">\n",
       "      <th></th>\n",
       "      <th>carat</th>\n",
       "      <th>cut</th>\n",
       "      <th>color</th>\n",
       "      <th>clarity</th>\n",
       "      <th>depth</th>\n",
       "      <th>table</th>\n",
       "      <th>price</th>\n",
       "      <th>x</th>\n",
       "      <th>y</th>\n",
       "      <th>z</th>\n",
       "      <th>shape</th>\n",
       "    </tr>\n",
       "  </thead>\n",
       "  <tbody>\n",
       "    <tr>\n",
       "      <th>0</th>\n",
       "      <td>1.21</td>\n",
       "      <td>Premium</td>\n",
       "      <td>J</td>\n",
       "      <td>VS2</td>\n",
       "      <td>62.4</td>\n",
       "      <td>58.0</td>\n",
       "      <td>4268</td>\n",
       "      <td>6.83</td>\n",
       "      <td>6.79</td>\n",
       "      <td>4.25</td>\n",
       "      <td>Round</td>\n",
       "    </tr>\n",
       "    <tr>\n",
       "      <th>1</th>\n",
       "      <td>0.32</td>\n",
       "      <td>Very Good</td>\n",
       "      <td>H</td>\n",
       "      <td>VS2</td>\n",
       "      <td>63.0</td>\n",
       "      <td>57.0</td>\n",
       "      <td>505</td>\n",
       "      <td>4.35</td>\n",
       "      <td>4.38</td>\n",
       "      <td>2.75</td>\n",
       "      <td>Round</td>\n",
       "    </tr>\n",
       "    <tr>\n",
       "      <th>2</th>\n",
       "      <td>0.71</td>\n",
       "      <td>Fair</td>\n",
       "      <td>G</td>\n",
       "      <td>VS1</td>\n",
       "      <td>65.5</td>\n",
       "      <td>55.0</td>\n",
       "      <td>2686</td>\n",
       "      <td>5.62</td>\n",
       "      <td>5.53</td>\n",
       "      <td>3.65</td>\n",
       "      <td>Round</td>\n",
       "    </tr>\n",
       "    <tr>\n",
       "      <th>3</th>\n",
       "      <td>0.41</td>\n",
       "      <td>Good</td>\n",
       "      <td>D</td>\n",
       "      <td>SI1</td>\n",
       "      <td>63.8</td>\n",
       "      <td>56.0</td>\n",
       "      <td>738</td>\n",
       "      <td>4.68</td>\n",
       "      <td>4.72</td>\n",
       "      <td>3.00</td>\n",
       "      <td>Round</td>\n",
       "    </tr>\n",
       "    <tr>\n",
       "      <th>4</th>\n",
       "      <td>1.02</td>\n",
       "      <td>Ideal</td>\n",
       "      <td>G</td>\n",
       "      <td>SI1</td>\n",
       "      <td>60.5</td>\n",
       "      <td>59.0</td>\n",
       "      <td>4882</td>\n",
       "      <td>6.55</td>\n",
       "      <td>6.51</td>\n",
       "      <td>3.95</td>\n",
       "      <td>Heart</td>\n",
       "    </tr>\n",
       "  </tbody>\n",
       "</table>\n",
       "</div>"
      ],
      "text/plain": [
       "   carat        cut color clarity  depth  table  price     x     y     z  \\\n",
       "0   1.21    Premium     J     VS2   62.4   58.0   4268  6.83  6.79  4.25   \n",
       "1   0.32  Very Good     H     VS2   63.0   57.0    505  4.35  4.38  2.75   \n",
       "2   0.71       Fair     G     VS1   65.5   55.0   2686  5.62  5.53  3.65   \n",
       "3   0.41       Good     D     SI1   63.8   56.0    738  4.68  4.72  3.00   \n",
       "4   1.02      Ideal     G     SI1   60.5   59.0   4882  6.55  6.51  3.95   \n",
       "\n",
       "   shape  \n",
       "0  Round  \n",
       "1  Round  \n",
       "2  Round  \n",
       "3  Round  \n",
       "4  Heart  "
      ]
     },
     "execution_count": 10,
     "metadata": {},
     "output_type": "execute_result"
    }
   ],
   "source": [
    "train.head()"
   ]
  },
  {
   "cell_type": "code",
   "execution_count": 11,
   "metadata": {},
   "outputs": [],
   "source": [
    "target= 'price'\n",
    "\n",
    "cat_features = ['cut', 'color', 'clarity', 'shape']\n",
    "num_features = ['carat', 'depth', 'table', 'x', 'y', 'z']\n",
    "\n",
    "for cat in cat_features:\n",
    "    train[cat]= train[cat].astype('category')\n",
    "    test[cat]= test[cat].astype('category')\n",
    "\n"
   ]
  },
  {
   "cell_type": "code",
   "execution_count": 12,
   "metadata": {},
   "outputs": [],
   "source": [
    "cut_change= {'Fair':0 , 'Good':1, 'Very Good':2 , 'Premium': 3, 'Ideal':4}\n",
    "train['cut']= train['cut'].map(cut_change)\n",
    "test['cut']= test['cut'].map(cut_change)\n",
    "\n",
    "color_change= {'J':0 , 'I':1, 'H':2 , 'G': 3, 'F':4, 'E':5, 'D':6}\n",
    "train['color']= train['color'].map(color_change)\n",
    "test['color']= test['color'].map(color_change)\n",
    "\n",
    "clarity_change= {'I1':0 , 'SI2':1, 'SI1':2 , 'VS2': 3, 'VS1':4, 'VVS2':5, 'VVS1':6, 'IF':7}\n",
    "train['clarity']= train['clarity'].map(clarity_change)\n",
    "test['clarity']= test['clarity'].map(clarity_change)\n",
    "\n",
    "shape= {'Unknown':0 , 'Heart':1, 'Emerald':2 , 'Cushion': 3, 'Round':4}\n",
    "train['shape']= train['shape'].map(shape)\n",
    "test['shape']= test['shape'].map(shape)\n",
    "\n"
   ]
  },
  {
   "cell_type": "code",
   "execution_count": 13,
   "metadata": {},
   "outputs": [
    {
     "data": {
      "text/html": [
       "<div>\n",
       "<style scoped>\n",
       "    .dataframe tbody tr th:only-of-type {\n",
       "        vertical-align: middle;\n",
       "    }\n",
       "\n",
       "    .dataframe tbody tr th {\n",
       "        vertical-align: top;\n",
       "    }\n",
       "\n",
       "    .dataframe thead th {\n",
       "        text-align: right;\n",
       "    }\n",
       "</style>\n",
       "<table border=\"1\" class=\"dataframe\">\n",
       "  <thead>\n",
       "    <tr style=\"text-align: right;\">\n",
       "      <th></th>\n",
       "      <th>carat</th>\n",
       "      <th>cut</th>\n",
       "      <th>color</th>\n",
       "      <th>clarity</th>\n",
       "      <th>depth</th>\n",
       "      <th>table</th>\n",
       "      <th>x</th>\n",
       "      <th>y</th>\n",
       "      <th>z</th>\n",
       "      <th>shape</th>\n",
       "    </tr>\n",
       "  </thead>\n",
       "  <tbody>\n",
       "    <tr>\n",
       "      <th>0</th>\n",
       "      <td>1.21</td>\n",
       "      <td>3</td>\n",
       "      <td>0</td>\n",
       "      <td>3</td>\n",
       "      <td>62.4</td>\n",
       "      <td>58.0</td>\n",
       "      <td>6.83</td>\n",
       "      <td>6.79</td>\n",
       "      <td>4.25</td>\n",
       "      <td>4</td>\n",
       "    </tr>\n",
       "    <tr>\n",
       "      <th>1</th>\n",
       "      <td>0.32</td>\n",
       "      <td>2</td>\n",
       "      <td>2</td>\n",
       "      <td>3</td>\n",
       "      <td>63.0</td>\n",
       "      <td>57.0</td>\n",
       "      <td>4.35</td>\n",
       "      <td>4.38</td>\n",
       "      <td>2.75</td>\n",
       "      <td>4</td>\n",
       "    </tr>\n",
       "    <tr>\n",
       "      <th>2</th>\n",
       "      <td>0.71</td>\n",
       "      <td>0</td>\n",
       "      <td>3</td>\n",
       "      <td>4</td>\n",
       "      <td>65.5</td>\n",
       "      <td>55.0</td>\n",
       "      <td>5.62</td>\n",
       "      <td>5.53</td>\n",
       "      <td>3.65</td>\n",
       "      <td>4</td>\n",
       "    </tr>\n",
       "    <tr>\n",
       "      <th>3</th>\n",
       "      <td>0.41</td>\n",
       "      <td>1</td>\n",
       "      <td>6</td>\n",
       "      <td>2</td>\n",
       "      <td>63.8</td>\n",
       "      <td>56.0</td>\n",
       "      <td>4.68</td>\n",
       "      <td>4.72</td>\n",
       "      <td>3.00</td>\n",
       "      <td>4</td>\n",
       "    </tr>\n",
       "    <tr>\n",
       "      <th>4</th>\n",
       "      <td>1.02</td>\n",
       "      <td>4</td>\n",
       "      <td>3</td>\n",
       "      <td>2</td>\n",
       "      <td>60.5</td>\n",
       "      <td>59.0</td>\n",
       "      <td>6.55</td>\n",
       "      <td>6.51</td>\n",
       "      <td>3.95</td>\n",
       "      <td>1</td>\n",
       "    </tr>\n",
       "    <tr>\n",
       "      <th>...</th>\n",
       "      <td>...</td>\n",
       "      <td>...</td>\n",
       "      <td>...</td>\n",
       "      <td>...</td>\n",
       "      <td>...</td>\n",
       "      <td>...</td>\n",
       "      <td>...</td>\n",
       "      <td>...</td>\n",
       "      <td>...</td>\n",
       "      <td>...</td>\n",
       "    </tr>\n",
       "    <tr>\n",
       "      <th>40450</th>\n",
       "      <td>1.34</td>\n",
       "      <td>4</td>\n",
       "      <td>3</td>\n",
       "      <td>4</td>\n",
       "      <td>62.7</td>\n",
       "      <td>57.0</td>\n",
       "      <td>7.10</td>\n",
       "      <td>7.04</td>\n",
       "      <td>4.43</td>\n",
       "      <td>4</td>\n",
       "    </tr>\n",
       "    <tr>\n",
       "      <th>40451</th>\n",
       "      <td>2.02</td>\n",
       "      <td>1</td>\n",
       "      <td>4</td>\n",
       "      <td>1</td>\n",
       "      <td>57.1</td>\n",
       "      <td>60.0</td>\n",
       "      <td>8.31</td>\n",
       "      <td>8.25</td>\n",
       "      <td>4.73</td>\n",
       "      <td>4</td>\n",
       "    </tr>\n",
       "    <tr>\n",
       "      <th>40452</th>\n",
       "      <td>1.01</td>\n",
       "      <td>4</td>\n",
       "      <td>2</td>\n",
       "      <td>2</td>\n",
       "      <td>62.7</td>\n",
       "      <td>56.0</td>\n",
       "      <td>6.37</td>\n",
       "      <td>6.42</td>\n",
       "      <td>4.01</td>\n",
       "      <td>4</td>\n",
       "    </tr>\n",
       "    <tr>\n",
       "      <th>40453</th>\n",
       "      <td>0.33</td>\n",
       "      <td>4</td>\n",
       "      <td>0</td>\n",
       "      <td>4</td>\n",
       "      <td>61.9</td>\n",
       "      <td>54.3</td>\n",
       "      <td>4.45</td>\n",
       "      <td>4.47</td>\n",
       "      <td>2.76</td>\n",
       "      <td>1</td>\n",
       "    </tr>\n",
       "    <tr>\n",
       "      <th>40454</th>\n",
       "      <td>1.24</td>\n",
       "      <td>4</td>\n",
       "      <td>1</td>\n",
       "      <td>2</td>\n",
       "      <td>62.0</td>\n",
       "      <td>58.0</td>\n",
       "      <td>6.83</td>\n",
       "      <td>6.88</td>\n",
       "      <td>4.25</td>\n",
       "      <td>1</td>\n",
       "    </tr>\n",
       "  </tbody>\n",
       "</table>\n",
       "<p>40455 rows × 10 columns</p>\n",
       "</div>"
      ],
      "text/plain": [
       "       carat cut color clarity  depth  table     x     y     z shape\n",
       "0       1.21   3     0       3   62.4   58.0  6.83  6.79  4.25     4\n",
       "1       0.32   2     2       3   63.0   57.0  4.35  4.38  2.75     4\n",
       "2       0.71   0     3       4   65.5   55.0  5.62  5.53  3.65     4\n",
       "3       0.41   1     6       2   63.8   56.0  4.68  4.72  3.00     4\n",
       "4       1.02   4     3       2   60.5   59.0  6.55  6.51  3.95     1\n",
       "...      ...  ..   ...     ...    ...    ...   ...   ...   ...   ...\n",
       "40450   1.34   4     3       4   62.7   57.0  7.10  7.04  4.43     4\n",
       "40451   2.02   1     4       1   57.1   60.0  8.31  8.25  4.73     4\n",
       "40452   1.01   4     2       2   62.7   56.0  6.37  6.42  4.01     4\n",
       "40453   0.33   4     0       4   61.9   54.3  4.45  4.47  2.76     1\n",
       "40454   1.24   4     1       2   62.0   58.0  6.83  6.88  4.25     1\n",
       "\n",
       "[40455 rows x 10 columns]"
      ]
     },
     "execution_count": 13,
     "metadata": {},
     "output_type": "execute_result"
    }
   ],
   "source": [
    "to_del= ['price']\n",
    "train_df= train.drop(to_del,1)\n",
    "train_df"
   ]
  },
  {
   "cell_type": "code",
   "execution_count": 14,
   "metadata": {},
   "outputs": [],
   "source": [
    "features= list(train_df.columns)\n",
    "target= 'price'"
   ]
  },
  {
   "cell_type": "markdown",
   "metadata": {},
   "source": [
    "## Predict the price - Machine Learning"
   ]
  },
  {
   "cell_type": "code",
   "execution_count": 15,
   "metadata": {},
   "outputs": [],
   "source": [
    "numeric_transformer = Pipeline(steps=[('imputer', SimpleImputer(strategy='median')), \n",
    "                ('scaler', StandardScaler())])\n",
    "preprocessor = ColumnTransformer(transformers=[('num', numeric_transformer, features)])\n",
    "\n",
    "model= Pipeline(steps=[('preprocessor', preprocessor),\n",
    "                       ('regressor', LGBMRegressor())])"
   ]
  },
  {
   "cell_type": "code",
   "execution_count": 16,
   "metadata": {},
   "outputs": [],
   "source": [
    "param_grid = {\n",
    "    'preprocessor__num__imputer__strategy': ['mean'],\n",
    "    'regressor__n_estimators': [256],\n",
    "    'regressor__max_depth': [8],\n",
    "    'regressor__num_leaves': [32],\n",
    "    'regressor__learning_rate':[0.1],\n",
    "     }"
   ]
  },
  {
   "cell_type": "code",
   "execution_count": 17,
   "metadata": {},
   "outputs": [],
   "source": [
    "grid_search = RandomizedSearchCV(model, \n",
    "                                 param_grid,  \n",
    "                                 verbose=5, \n",
    "                                 scoring='neg_root_mean_squared_error', \n",
    "                                 n_jobs=-1,\n",
    "                                 n_iter=500)"
   ]
  },
  {
   "cell_type": "code",
   "execution_count": 18,
   "metadata": {},
   "outputs": [
    {
     "name": "stdout",
     "output_type": "stream",
     "text": [
      "Fitting 5 folds for each of 1 candidates, totalling 5 fits\n"
     ]
    },
    {
     "name": "stderr",
     "output_type": "stream",
     "text": [
      "/Users/gonzaloalvarez/miniconda3/envs/ironhack_env/lib/python3.8/site-packages/sklearn/model_selection/_search.py:285: UserWarning: The total space of parameters 1 is smaller than n_iter=500. Running 1 iterations. For exhaustive searches, use GridSearchCV.\n",
      "  warnings.warn(\n"
     ]
    },
    {
     "data": {
      "text/plain": [
       "RandomizedSearchCV(estimator=Pipeline(steps=[('preprocessor',\n",
       "                                              ColumnTransformer(transformers=[('num',\n",
       "                                                                               Pipeline(steps=[('imputer',\n",
       "                                                                                                SimpleImputer(strategy='median')),\n",
       "                                                                                               ('scaler',\n",
       "                                                                                                StandardScaler())]),\n",
       "                                                                               ['carat',\n",
       "                                                                                'cut',\n",
       "                                                                                'color',\n",
       "                                                                                'clarity',\n",
       "                                                                                'depth',\n",
       "                                                                                'table',\n",
       "                                                                                'x',\n",
       "                                                                                'y',\n",
       "                                                                                'z',\n",
       "                                                                                'shape'])])),\n",
       "                                             ('regressor', LGBMRegressor())]),\n",
       "                   n_iter=500, n_jobs=-1,\n",
       "                   param_distributions={'preprocessor__num__imputer__strategy': ['mean'],\n",
       "                                        'regressor__learning_rate': [0.1],\n",
       "                                        'regressor__max_depth': [8],\n",
       "                                        'regressor__n_estimators': [256],\n",
       "                                        'regressor__num_leaves': [32]},\n",
       "                   scoring='neg_root_mean_squared_error', verbose=5)"
      ]
     },
     "execution_count": 18,
     "metadata": {},
     "output_type": "execute_result"
    }
   ],
   "source": [
    "grid_search.fit(train_df[features], train[target])"
   ]
  },
  {
   "cell_type": "code",
   "execution_count": 19,
   "metadata": {},
   "outputs": [
    {
     "data": {
      "text/plain": [
       "{'regressor__num_leaves': 32,\n",
       " 'regressor__n_estimators': 256,\n",
       " 'regressor__max_depth': 8,\n",
       " 'regressor__learning_rate': 0.1,\n",
       " 'preprocessor__num__imputer__strategy': 'mean'}"
      ]
     },
     "execution_count": 19,
     "metadata": {},
     "output_type": "execute_result"
    }
   ],
   "source": [
    "grid_search.best_params_"
   ]
  },
  {
   "cell_type": "code",
   "execution_count": 20,
   "metadata": {},
   "outputs": [
    {
     "data": {
      "text/plain": [
       "-526.8778592761441"
      ]
     },
     "execution_count": 20,
     "metadata": {},
     "output_type": "execute_result"
    }
   ],
   "source": [
    "grid_search.best_score_"
   ]
  },
  {
   "cell_type": "code",
   "execution_count": 21,
   "metadata": {},
   "outputs": [],
   "source": [
    "y_pred= grid_search.predict(test[features])"
   ]
  },
  {
   "cell_type": "code",
   "execution_count": 22,
   "metadata": {},
   "outputs": [],
   "source": [
    "submission = pd.DataFrame({'id': test['id'], 'price': y_pred})\n",
    "submission.to_csv('./best_one.csv', index=False)"
   ]
  },
  {
   "cell_type": "code",
   "execution_count": null,
   "metadata": {},
   "outputs": [],
   "source": []
  }
 ],
 "metadata": {
  "kernelspec": {
   "display_name": "Python [conda env:ironhack_env]",
   "language": "python",
   "name": "conda-env-ironhack_env-py"
  },
  "language_info": {
   "codemirror_mode": {
    "name": "ipython",
    "version": 3
   },
   "file_extension": ".py",
   "mimetype": "text/x-python",
   "name": "python",
   "nbconvert_exporter": "python",
   "pygments_lexer": "ipython3",
   "version": "3.8.5"
  }
 },
 "nbformat": 4,
 "nbformat_minor": 4
}
